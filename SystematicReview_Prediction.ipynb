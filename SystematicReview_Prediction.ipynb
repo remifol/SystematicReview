{
  "nbformat": 4,
  "nbformat_minor": 0,
  "metadata": {
    "colab": {
      "name": "SystematicReview_Prediction.ipynb",
      "version": "0.3.2",
      "provenance": [],
      "collapsed_sections": [],
      "include_colab_link": true
    },
    "kernelspec": {
      "name": "python3",
      "display_name": "Python 3"
    },
    "accelerator": "GPU"
  },
  "cells": [
    {
      "cell_type": "markdown",
      "metadata": {
        "id": "view-in-github",
        "colab_type": "text"
      },
      "source": [
        "<a href=\"https://colab.research.google.com/github/remifol/SystematicReview/blob/master/SystematicReview_Prediction.ipynb\" target=\"_parent\"><img src=\"https://colab.research.google.com/assets/colab-badge.svg\" alt=\"Open In Colab\"/></a>"
      ]
    },
    {
      "metadata": {
        "id": "y7WjXv_mYKzI",
        "colab_type": "code",
        "colab": {}
      },
      "cell_type": "code",
      "source": [
        "#general importation\n",
        "import numpy as np\n",
        "import pandas as pd\n",
        "pd.options.mode.chained_assignment = None  # default='warn'\n",
        "import time\n",
        "import random\n",
        "import matplotlib.pyplot as plt\n",
        "%matplotlib inline\n",
        "\n",
        "#Natural Language processing\n",
        "import nltk\n",
        "from nltk.stem.porter import PorterStemmer\n",
        "nltk.download('punkt')\n",
        "nltk.download('stopwords')\n",
        "from sklearn.feature_extraction.text import CountVectorizer\n",
        "from sklearn import linear_model, svm\n",
        "from sklearn.pipeline import Pipeline\n",
        "from sklearn.metrics import f1_score, accuracy_score, recall_score\n",
        "import gensim\n",
        "from gensim.models.word2vec import Word2Vec\n",
        "\n",
        "\n",
        "#Pubmed tool importation\n",
        "!pip install biopython\n",
        "from Bio import Entrez\n",
        "from Bio import Medline\n",
        "\n",
        "#Other\n",
        "from IPython.display import clear_output\n",
        "\n",
        "from google.colab import drive\n",
        "drive.mount('/content/drive')\n",
        "\n",
        "clear_output() #for clarity"
      ],
      "execution_count": 0,
      "outputs": []
    },
    {
      "metadata": {
        "id": "eskeeOwLYU9Y",
        "colab_type": "code",
        "colab": {}
      },
      "cell_type": "code",
      "source": [
        "Entrez.email = 'nsauthier@gmail.com'  #email required for Entrez database request\n",
        "Path = 'drive/My Drive/Projet de maitrise/Revue systématique/Automatisation/Algorithme/'"
      ],
      "execution_count": 0,
      "outputs": []
    },
    {
      "metadata": {
        "id": "PxGX3fjbYW8a",
        "colab_type": "code",
        "colab": {}
      },
      "cell_type": "code",
      "source": [
        "def cleaning(word_tokens, stem = True):\n",
        "  #goal: \n",
        "  stopWords = set(nltk.corpus.stopwords.words('english'))\n",
        "  tokens = [token.lower() for token in word_tokens if token.isalpha()]\n",
        "  if stem:\n",
        "    porter_stemmer = PorterStemmer()\n",
        "    tokens = [porter_stemmer.stem(token) for token in tokens if token not in stopWords]\n",
        "  else:\n",
        "    tokens = [token for token in tokens if token not in stopWords]\n",
        "  return \" \".join(tokens)\n",
        "\n",
        "def get_TitlesAbstracts(Data,subject,clean=True):\n",
        "  #Use Entrez library to get title and abstract from Pubmed\n",
        "  #Tokenize it, \n",
        "  #if clean=True clean it and return it as a formatted list\n",
        "  #if not don't clean to be later processed by embedding\n",
        "  \n",
        "  #Initialization\n",
        "  Data.AbstractTriageStatus\n",
        "  TitlesAbstracts = []\n",
        "  PMID_temp = []\n",
        "  batchsize = 200\n",
        "  print('Beginning of extraction of ' + subject)\n",
        "  \n",
        "  #Creation of dictionary PMID:label\n",
        "  Label_dict = Data[Data.ReviewSubject == subject][['PMID','AbstractTriageStatus']].set_index('PMID').to_dict()['AbstractTriageStatus'] \n",
        "  \n",
        "  PMID_list = Data.loc[Data['ReviewSubject'] == subject, 'PMID'].values\n",
        "\n",
        "  for NB_PMID in range(len(PMID_list)): #go in batches to avoid overloading Entrez\n",
        "    PMID_temp.append(str(PMID_list[NB_PMID]))\n",
        "    if (NB_PMID % batchsize) == 1:\n",
        "    \n",
        "      #Get the generator for the PMID list on medline\n",
        "      record = Medline.parse(Entrez.efetch(db='pubmed', id = ','.join(PMID_temp), rettype = 'medline'))\n",
        "\n",
        "      #Extraction of title, abstract and up-dated PMID list\n",
        "      for record in record:\n",
        "        if 'AB' in record.keys():\n",
        "          TitleAbstract_temp = []\n",
        "          Unclean_TitleAbstract = record['TI'] + ' ' + record['AB']\n",
        "          if clean:\n",
        "            TitleAbstract_temp.append([cleaning(nltk.word_tokenize(Unclean_TitleAbstract.replace('-',' ')))])\n",
        "          else:\n",
        "            TitleAbstract_temp.append(Unclean_TitleAbstract)\n",
        "          TitleAbstract_temp.append(Label_dict[int(record['PMID'])])\n",
        "          TitleAbstract_temp.append(3) #For predicted lable\n",
        "          TitlesAbstracts.append(TitleAbstract_temp)\n",
        "      PMID_temp = []\n",
        "      \n",
        "  print('Subject ' + subject + ' extracted.')\n",
        "      \n",
        "  return TitlesAbstracts\n",
        "\n",
        "def unpack(liste):\n",
        "  #Transform a nested list into a numpy ndarray\n",
        "  Number = len(liste)\n",
        "  newlist = []\n",
        "  label = []\n",
        "  if isinstance(liste[0][0][0],str):#Input is a string of word\n",
        "    for index in range(Number):\n",
        "      newlist.append(liste[index][0][0])\n",
        "      label.append(liste[index][1])\n",
        "    return newlist, label\n",
        "    \n",
        "  else:\n",
        "    for index in range(Number):\n",
        "      newlist.append(liste[index][0])\n",
        "      label.append(np.ones(liste[index][0].shape[0])*liste[index][1])\n",
        "      \n",
        "    return np.concatenate(newlist,axis=0), np.concatenate(label,axis=0)\n",
        "  \n",
        "def embed_w2v(model_link,TitlesAbstracts_list):\n",
        "  w2v_model = gensim.models.KeyedVectors.load_word2vec_format(model_link, binary=True)\n",
        "  print('model loaded')\n",
        "  for text_num in range(len(TitlesAbstracts_list)):\n",
        "    tokens = nltk.word_tokenize(TitlesAbstracts_list[text_num][0].replace('-',' '))\n",
        "    stopWords = set(nltk.corpus.stopwords.words('english'))\n",
        "    word_tokens = [token.lower() for token in tokens if token.isalpha()]\n",
        "    embeded = []\n",
        "    unknown_words = 0\n",
        "    known_words = 0\n",
        "    for word in word_tokens:\n",
        "      try :\n",
        "        embeded.append(w2v_model.get_vector(word))\n",
        "      except KeyError: #unkown word\n",
        "        embeded.append(np.zeros(w2v_model.vector_size)) #unkown tag\n",
        "        unknown_words+=1\n",
        "    known_words += len(word_tokens)\n",
        "  \n",
        "    TitlesAbstracts_list[text_num][0] = np.asarray(embeded)\n",
        "    \n",
        "    TitlesAbstracts_list[text_num][2] = np.ones(len(embeded))*3 #predicted\n",
        "  \n",
        "  print('Text embeded. {0:2.4f}% of unkown words'.format(unknown_words/(unknown_words+known_words)))\n",
        "\n",
        "  return TitlesAbstracts_list\n",
        "\n",
        "def metrics_calc(known,unkown):\n",
        "  metrics = np.zeros([4,3])\n",
        "  all_data = np.vstack((known, unkown))\n",
        "  \n",
        "  #know sensitivity\n",
        "  metrics[0,0] = recall_score(known[:,0], known[:,1], pos_label=1)\n",
        "  #know specificity\n",
        "  metrics[1,0] =  recall_score(known[:,0], known[:,1], pos_label=0)\n",
        "  #know f1\n",
        "  if sum(known[:,1]) == 0:#to avoid warning when all predicted are =0\n",
        "    metrics[2,0] =  0\n",
        "  else:\n",
        "    metrics[2,0] =  f1_score(known[:,0], known[:,1])\n",
        "  #know proportion of included article\n",
        "  metrics[3,0] =  np.sum(known[:,0])/len(known)\n",
        "  #unkown sensitivity\n",
        "  metrics[0,1] =  recall_score(unkown[:,0], unkown[:,1], pos_label=1)\n",
        "  #unkown specificity\n",
        "  metrics[1,1] =  recall_score(unkown[:,0], unkown[:,1], pos_label=0)\n",
        "  #all f1\n",
        "  if sum(unkown[:,1]) == 0:#to avoid warning when all predicted are =0\n",
        "    metrics[2,1] =  0\n",
        "  else:\n",
        "    metrics[2,1] =  f1_score(unkown[:,0], unkown[:,1])\n",
        "  #unkown proportion of included article\n",
        "  metrics[3,1] =  np.sum(unkown[:,0])/len(unkown)\n",
        "  #all sensitivity\n",
        "  metrics[0,2] =  recall_score(all_data[:,0], all_data[:,1], pos_label=1)\n",
        "  #all specificity\n",
        "  metrics[1,2] =  recall_score(all_data[:,0], all_data[:,1], pos_label=0)\n",
        "  #all f1\n",
        "  if sum(all_data[:,1]) == 0:#to avoid warning when all predicted are =0\n",
        "    metrics[2,2] =  0\n",
        "  else:\n",
        "    metrics[2,2] =  f1_score(all_data[:,0], all_data[:,1])\n",
        "  #all proportion of included article\n",
        "  metrics[3,2] =  np.sum(all_data[:,0])/len(all_data)\n",
        "  \n",
        "  return metrics"
      ],
      "execution_count": 0,
      "outputs": []
    },
    {
      "metadata": {
        "id": "Be3LVEFsxP-Q",
        "colab_type": "code",
        "colab": {}
      },
      "cell_type": "code",
      "source": [
        "def model_iterative_fit(Model, batchsize, Unknown, order = \"most\"):\n",
        "\n",
        "  #Random extraction of first data until one included article.\n",
        "  Known = []\n",
        "  random.shuffle(Unknown)\n",
        "  MustContinue = True\n",
        "  while MustContinue:\n",
        "    temp = Unknown.pop()\n",
        "    Known.append(temp)\n",
        "    _, Known_Y = unpack(Known)\n",
        "    if len(Known_Y) >=2 and not np.sum(Known_Y) == 0:\n",
        "      #two articles minimum and at least one positive\n",
        "      MustContinue = False\n",
        "\n",
        "  #initialization\n",
        "  Nb_iter = len(Unknown)//batchsize\n",
        "  Metrics = np.zeros([4,3,Nb_iter]) #col=[SN, SP, %=0], Row = [Known, Unknown, All]\n",
        "  print('{0} positive sample on total of {1} samples'.format(np.sum(Known_Y), len(Known_Y)))\n",
        "\n",
        "  #Iteration to include by article batches\n",
        "  for i in range(Nb_iter):\n",
        "    start = time.time()\n",
        "    average = []\n",
        "    random.shuffle(Known)\n",
        "    Known_X, Known_Y = unpack(Known)\n",
        "    _ = Model.fit(Known_X, Known_Y)\n",
        "\n",
        "    #Decision function = distance from the SVM line for each unknown\n",
        "    for unkown_id in range(len(Unknown)):\n",
        "      Unknown[unkown_id][2] = Model.decision_function(Unknown[unkown_id][0])\n",
        "      average.append(Unknown[unkown_id][2].mean())\n",
        "\n",
        "    #Format of result as array with first col = true, second = predict\n",
        "    result_temp = [] \n",
        "    for j in range(len(Unknown)):\n",
        "      result_temp.append(np.array([Unknown[j][1],int((np.sign(np.sum(Unknown[j][2])) + 1)/2)]))\n",
        "    result_unkown = np.reshape(result_temp, [len(result_temp),2])\n",
        "\n",
        "    #Prediction of known with actual model\n",
        "    for kown_id in range(len(Known)):\n",
        "      Known[kown_id][2] = Model.decision_function(Known[kown_id][0])\n",
        "\n",
        "    #Format of result as array with first col = true, second = predict\n",
        "    result_temp = [] \n",
        "    for j in range(len(Known)):\n",
        "      result_temp.append(np.array([Known[j][1],int((np.sign(np.sum(Known[j][2])) + 1)/2)]))\n",
        "    result_known = np.reshape(result_temp, [len(result_temp),2])\n",
        "\n",
        "    #Model Update\n",
        "    for batch_id in range(batchsize):\n",
        "      if order == \"most\": \n",
        "        #pop the most sure from the unkown to the known list\n",
        "        Known.append(Unknown.pop(average.index(max(average))))\n",
        "        _ = average.pop(average.index(max(average)))\n",
        "      elif order == \"random\":\n",
        "        #pop one article in the list that<s in a random order\n",
        "        Known.append(Unknown.pop())\n",
        "\n",
        "    #Metrics\n",
        "    Metrics[:,:,i] = metrics_calc(result_known,result_unkown)\n",
        "\n",
        "    if i%10 == 0:\n",
        "      print('{0}/{1} articles. Iteration time: {2:2.4f} sec per batch'.format(i*batchsize,Nb_iter*batchsize, time.time()-start))\n",
        "    \n",
        "  return Metrics"
      ],
      "execution_count": 0,
      "outputs": []
    },
    {
      "metadata": {
        "id": "xKoW72K8bnx_",
        "colab_type": "code",
        "colab": {}
      },
      "cell_type": "code",
      "source": [
        "#Exportation and exportation of data\n",
        "for subject in Subjects:\n",
        "  TitlesAbstracts = get_TitlesAbstracts(Data, subject, clean = False)\n",
        "  articles = pd.DataFrame(TitlesAbstracts)\n",
        "  articles['Article'] = articles[0].apply(lambda x:x.replace(',',' '))\n",
        "  articles['StemmedArticle'] = articles['Article'].apply(lambda x:cleaning(nltk.word_tokenize(x.replace('-',' ')),stem=True))\n",
        "  articles['CleanedArticle'] = articles['Article'].apply(lambda x:cleaning(nltk.word_tokenize(x.replace('-',' ')),stem=False))\n",
        "\n",
        "\n",
        "  articles = articles.rename(columns = {1:'Label'})\n",
        "\n",
        "  articles.drop(columns = [0,2],inplace=True)\n",
        "  articles.to_csv(Path+subject+'.csv', index=False)\n",
        "  \n",
        "  "
      ],
      "execution_count": 0,
      "outputs": []
    },
    {
      "metadata": {
        "id": "vMLLyI4GYo51",
        "colab_type": "code",
        "colab": {}
      },
      "cell_type": "code",
      "source": [
        "#Extraction of the pre-formated tsv data\n",
        "Data = pd.read_csv(Path+'epc-ir.clean.tsv', sep = '\\t',names = ['ReviewSubject', 'Unknown', 'PMID','AbstractTriageStatus', 'ArticleTriageStatus'])\n",
        "Data['AbstractTriageStatus'][Data['AbstractTriageStatus'] == 'I'] = 1 #included\n",
        "Data['AbstractTriageStatus'][Data['AbstractTriageStatus'] != 1] = 0 #excluded\n",
        "Subjects = Data['ReviewSubject'].unique().tolist()\n",
        "\n",
        "dict_result = {}\n",
        "order = \"random\""
      ],
      "execution_count": 0,
      "outputs": []
    },
    {
      "metadata": {
        "id": "4WjsMv3oUd78",
        "colab_type": "code",
        "outputId": "e0ae6805-630f-44eb-8a7c-23230c5544db",
        "colab": {
          "base_uri": "https://localhost:8080/",
          "height": 51
        }
      },
      "cell_type": "code",
      "source": [
        "TitlesAbstracts = get_TitlesAbstracts(Data, Subjects[0], clean = True)\n",
        "\n",
        "#Unknown = embed_w2v(Path+'Models/GoogleNews-vectors-negative300.bin.gz',TitlesAbstracts)\n",
        "\n"
      ],
      "execution_count": 0,
      "outputs": [
        {
          "output_type": "stream",
          "text": [
            "Beginning of extraction of ACEInhibitors\n",
            "Subject ACEInhibitors extracted.\n"
          ],
          "name": "stdout"
        }
      ]
    },
    {
      "metadata": {
        "id": "XXYyRA3ZaESZ",
        "colab_type": "code",
        "outputId": "635804bc-9983-41be-f9f9-f7d783f31f05",
        "colab": {
          "base_uri": "https://localhost:8080/",
          "height": 221
        }
      },
      "cell_type": "code",
      "source": [
        "svm_BOW = Pipeline([('vect', CountVectorizer()),\n",
        "                      ('clf-svm', linear_model.SGDClassifier(loss = 'hinge',\n",
        "                                                            penalty = 'l2', \n",
        "                                                            max_iter = 10000, \n",
        "                                                            tol=1e-4\n",
        "                                                            )\n",
        "                      )\n",
        "                     ])\n",
        "metrics = model_iterative_fit(svm_BOW,\n",
        "                              20, \n",
        "                              TitlesAbstracts, \n",
        "                              \"random\")"
      ],
      "execution_count": 0,
      "outputs": [
        {
          "output_type": "stream",
          "text": [
            "1 positive sample on total of 5 samples\n",
            "0/2080 articles. Iteration time: 0.9067 sec per batch\n",
            "200/2080 articles. Iteration time: 0.9386 sec per batch\n",
            "400/2080 articles. Iteration time: 0.8223 sec per batch\n",
            "600/2080 articles. Iteration time: 0.8576 sec per batch\n",
            "800/2080 articles. Iteration time: 0.8718 sec per batch\n",
            "1000/2080 articles. Iteration time: 0.8939 sec per batch\n",
            "1200/2080 articles. Iteration time: 0.9441 sec per batch\n",
            "1400/2080 articles. Iteration time: 0.9436 sec per batch\n",
            "1600/2080 articles. Iteration time: 0.9791 sec per batch\n",
            "1800/2080 articles. Iteration time: 0.9805 sec per batch\n",
            "2000/2080 articles. Iteration time: 1.0019 sec per batch\n"
          ],
          "name": "stdout"
        }
      ]
    },
    {
      "metadata": {
        "id": "gMG4TYg7a8CC",
        "colab_type": "code",
        "colab": {}
      },
      "cell_type": "code",
      "source": [
        "Metrics = metrics"
      ],
      "execution_count": 0,
      "outputs": []
    },
    {
      "metadata": {
        "id": "Dwh3h8vcQDZU",
        "colab_type": "code",
        "colab": {}
      },
      "cell_type": "code",
      "source": [
        "for Subject in Subjects:\n",
        "  TitlesAbstracts_SVM = get_TitlesAbstracts(Data, Subject, clean = True)\n",
        "  length = len(TitlesAbstracts_SVM)\n",
        "  print(length)\n",
        "  \n",
        "  batchsize = length//100\n",
        "  #SVM\n",
        "  svm_BOW = Pipeline([('vect', CountVectorizer()),\n",
        "                      ('clf-svm', linear_model.SGDClassifier(loss = 'hinge',\n",
        "                                                            penalty = 'l2', \n",
        "                                                            max_iter = 10000, \n",
        "                                                            tol=1e-4\n",
        "                                                            )\n",
        "                      )\n",
        "                     ])\n",
        "  Metrics = model_iterative_fit(svm_BOW, batchsize = batchsize, Unknown=TitlesAbstracts_SVM, order=order)\n",
        "\n",
        "  dict_result.update({(Subject,'WSS95-Filtered', 'SVM'): np.argmax(savgol_filter(Metrics[2,2], 11, 3)>=0.95)*batchsize,\n",
        "                      (Subject,'WSS95', 'SVM'): np.argmax(Metrics[2,2]>=0.95)*batchsize,\n",
        "                      (Subject,'NbArticles', 'SVM'): length\n",
        "                     })\n",
        "\n",
        "  #Logistic Regression\n",
        "  TitlesAbstracts_RegLog = get_TitlesAbstracts(Data, Subject, clean = True)\n",
        "  length = len(TitlesAbstracts_RegLog)\n",
        "  print(length)\n",
        "  LogReg_BOW = Pipeline([('vect', CountVectorizer()),\n",
        "                          ('clf-svm', linear_model.SGDClassifier(loss = 'log',\n",
        "                                                              penalty = 'l2', \n",
        "                                                              max_iter = 10000, \n",
        "                                                              tol=1e-4\n",
        "                                                              )\n",
        "                          )\n",
        "                        ]\n",
        "                       )\n",
        "\n",
        "  Metrics = model_iterative_fit(LogReg_BOW, batchsize = batchsize, Unknown=TitlesAbstracts_RegLog, order=order)\n",
        "\n",
        "  dict_result.update({(Subject,'WSS95-Filtered', 'RegLog'): np.argmax(savgol_filter(Metrics[2,2], 11, 3)>=0.95)*batchsize,\n",
        "                      (Subject,'WSS95', 'RegLog'): np.argmax(Metrics[2,2]>=0.95)*batchsize,\n",
        "                      (Subject,'NbArticles', 'SVM'): length\n",
        "                     })\n",
        "\n",
        "\n"
      ],
      "execution_count": 0,
      "outputs": []
    },
    {
      "metadata": {
        "id": "kEfJYcFe12RA",
        "colab_type": "code",
        "outputId": "f53855a0-aa01-482b-caba-7f2df8615887",
        "colab": {
          "base_uri": "https://localhost:8080/",
          "height": 461
        }
      },
      "cell_type": "code",
      "source": [
        "#Plot function\n",
        "plt.style.use('ggplot')\n",
        "x_axis = np.arange(0, max(Metrics.shape))\n",
        "\n",
        "fig, ax = plt.subplots(3,4, figsize=(15, 6), facecolor='w', edgecolor='k')#figsize=(10,5), dpi=150)\n",
        "\n",
        "titles = ('Known Sen',\n",
        "          'Known Spe',\n",
        "          'Known F1',\n",
        "          'Known Prop',\n",
        "          'Unkown Sen',\n",
        "          'Unkown Spe',\n",
        "          'Unknown F1',\n",
        "          'Unkown Prop',\n",
        "          'All Sen',\n",
        "          'All Spe',\n",
        "          'All F1',\n",
        "          'All Prop')\n",
        "\n",
        "ax = ax.ravel()\n",
        "\n",
        "for i in range(12):\n",
        "  color = 'tab:black'\n",
        "  \n",
        "  ax[i].set_title(titles[i])\n",
        "  ax[i].plot(x_axis,Metrics[i%4,i//4,:], 'k')\n",
        "  ax[i].set_ylim(0,1.2)\n",
        "\n",
        "\n",
        "#ax1.legend(loc='right')\n",
        "fig.tight_layout()\n",
        "plt.show()"
      ],
      "execution_count": 0,
      "outputs": [
        {
          "output_type": "display_data",
          "data": {
            "image/png": "[encoded data removed]",
            "text/plain": [
              "<Figure size 1080x432 with 12 Axes>"
            ]
          },
          "metadata": {
            "tags": []
          }
        }
      ]
    },
    {
      "metadata": {
        "id": "ax5aLmLSdh1q",
        "colab_type": "code",
        "outputId": "9f1289a4-b1a3-49b1-e67e-305a9274b895",
        "colab": {
          "base_uri": "https://localhost:8080/",
          "height": 282
        }
      },
      "cell_type": "code",
      "source": [
        "plt.plot(Metrics[2,2])"
      ],
      "execution_count": 0,
      "outputs": [
        {
          "output_type": "execute_result",
          "data": {
            "text/plain": [
              "[<matplotlib.lines.Line2D at 0x7f3b9dac1b38>]"
            ]
          },
          "metadata": {
            "tags": []
          },
          "execution_count": 17
        },
        {
          "output_type": "display_data",
          "data": {
            "image/png": "[encoded data removed]",
            "text/plain": [
              "<Figure size 432x288 with 1 Axes>"
            ]
          },
          "metadata": {
            "tags": []
          }
        }
      ]
    },
    {
      "metadata": {
        "id": "cGgZDL2q-_mk",
        "colab_type": "code",
        "outputId": "3e14de9b-d393-492c-f392-39fa0a0c85a1",
        "colab": {
          "base_uri": "https://localhost:8080/",
          "height": 282
        }
      },
      "cell_type": "code",
      "source": [
        "from scipy.signal import savgol_filter\n",
        "plt.plot() # window size 51, polynomial order 3"
      ],
      "execution_count": 0,
      "outputs": [
        {
          "output_type": "execute_result",
          "data": {
            "text/plain": [
              "[<matplotlib.lines.Line2D at 0x7f3b9c3a5710>]"
            ]
          },
          "metadata": {
            "tags": []
          },
          "execution_count": 21
        },
        {
          "output_type": "display_data",
          "data": {
            "image/png": "[encoded data removed]",
            "text/plain": [
              "<Figure size 432x288 with 1 Axes>"
            ]
          },
          "metadata": {
            "tags": []
          }
        }
      ]
    },
    {
      "metadata": {
        "id": "rVIWxhPA_Edz",
        "colab_type": "code",
        "outputId": "e6c11148-78f8-48cb-9bde-2c479d5d1cfd",
        "colab": {
          "base_uri": "https://localhost:8080/",
          "height": 51
        }
      },
      "cell_type": "code",
      "source": [
        "print(np.argmax(savgol_filter(Metrics[2,2], 51, 3)>=0.95))\n",
        "print(np.argmax(Metrics[2,2]>=0.95))"
      ],
      "execution_count": 0,
      "outputs": [
        {
          "output_type": "stream",
          "text": [
            "138\n",
            "139\n"
          ],
          "name": "stdout"
        }
      ]
    },
    {
      "metadata": {
        "id": "lByQCJSu_uvq",
        "colab_type": "code",
        "outputId": "804a667e-452d-4cc6-feea-a00411b87f44",
        "colab": {
          "base_uri": "https://localhost:8080/",
          "height": 34
        }
      },
      "cell_type": "code",
      "source": [
        "Metrics[2,2,139]"
      ],
      "execution_count": 0,
      "outputs": [
        {
          "output_type": "execute_result",
          "data": {
            "text/plain": [
              "0.9517684887459806"
            ]
          },
          "metadata": {
            "tags": []
          },
          "execution_count": 32
        }
      ]
    },
    {
      "metadata": {
        "id": "TddvKtzFAoGW",
        "colab_type": "code",
        "colab": {}
      },
      "cell_type": "code",
      "source": [
        ""
      ],
      "execution_count": 0,
      "outputs": []
    }
  ]
}