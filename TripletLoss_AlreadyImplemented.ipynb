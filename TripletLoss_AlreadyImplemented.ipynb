{
  "nbformat": 4,
  "nbformat_minor": 0,
  "metadata": {
    "colab": {
      "name": "TripletLoss_AlreadyImplemented",
      "version": "0.3.2",
      "provenance": [],
      "collapsed_sections": [],
      "include_colab_link": true
    },
    "kernelspec": {
      "name": "python3",
      "display_name": "Python 3"
    },
    "accelerator": "GPU"
  },
  "cells": [
    {
      "cell_type": "markdown",
      "metadata": {
        "id": "view-in-github",
        "colab_type": "text"
      },
      "source": [
        "<a href=\"https://colab.research.google.com/github/remifol/SystematicReview/blob/master/TripletLoss_AlreadyImplemented.ipynb\" target=\"_parent\"><img src=\"https://colab.research.google.com/assets/colab-badge.svg\" alt=\"Open In Colab\"/></a>"
      ]
    },
    {
      "metadata": {
        "id": "58mPUU89-pqe",
        "colab_type": "text"
      },
      "cell_type": "markdown",
      "source": [
        "To run this model directly in the browser with zero setup, open it in [Colab here](https://colab.research.google.com/github/sararob/keras-wine-model/blob/master/keras-wide-deep.ipynb)."
      ]
    },
    {
      "metadata": {
        "colab_type": "code",
        "id": "frTMl3sShA3P",
        "colab": {}
      },
      "cell_type": "code",
      "source": [
        "from __future__ import absolute_import\n",
        "from __future__ import division\n",
        "from __future__ import print_function"
      ],
      "execution_count": 0,
      "outputs": []
    },
    {
      "metadata": {
        "id": "29ifh5Rv-pqm",
        "colab_type": "code",
        "outputId": "2e0ecc5a-25ad-4d8e-db02-025eb8f7cc69",
        "colab": {
          "base_uri": "https://localhost:8080/",
          "height": 54
        }
      },
      "cell_type": "code",
      "source": [
        "import itertools\n",
        "import os\n",
        "import math\n",
        "import numpy as np\n",
        "import pandas as pd\n",
        "pd.options.mode.chained_assignment = None  # default='warn'\n",
        "import tensorflow as tf\n",
        "import nltk\n",
        "import time\n",
        "import gensim\n",
        "import random\n",
        "\n",
        "import pickle\n",
        "import itertools\n",
        "\n",
        "from sklearn.feature_extraction.text import CountVectorizer\n",
        "from sklearn import linear_model, svm\n",
        "from sklearn.pipeline import Pipeline\n",
        "from sklearn.metrics import f1_score, accuracy_score, recall_score\n",
        "\n",
        "from sklearn.preprocessing import LabelEncoder\n",
        "from tensorflow import keras\n",
        "from keras.utils import Sequence\n",
        "layers = keras.layers\n",
        "\n",
        "from google.colab import drive\n",
        "drive.mount('/content/drive')\n",
        "Path = 'drive/My Drive/Projet de maitrise/Revue systématique/Automatisation/Algorithme/'"
      ],
      "execution_count": 2,
      "outputs": [
        {
          "output_type": "stream",
          "text": [
            "Drive already mounted at /content/drive; to attempt to forcibly remount, call drive.mount(\"/content/drive\", force_remount=True).\n"
          ],
          "name": "stdout"
        },
        {
          "output_type": "stream",
          "text": [
            "Using TensorFlow backend.\n"
          ],
          "name": "stderr"
        }
      ]
    },
    {
      "metadata": {
        "id": "DxQhU1kRFOxt",
        "colab_type": "code",
        "colab": {}
      },
      "cell_type": "code",
      "source": [
        "def embed(model,word_list, max_N_word):\n",
        "  #get a padded list of word, return a ndarray of dimension [Max_N_word, Embed_dim]\n",
        "  Emb_size = model.vector_size\n",
        "  embed_words = np.zeros((max_N_word,Emb_size))\n",
        "  embeded = []\n",
        "  for word in word_list:\n",
        "    try :\n",
        "      embeded.append(model.get_vector(word))\n",
        "    except KeyError: #unkown word\n",
        "      embeded.append(np.zeros(Emb_size)) #unkown tag\n",
        "  embed_words[:len(word_list),:] = np.asarray(embeded)\n",
        "  \n",
        "  return embed_words"
      ],
      "execution_count": 0,
      "outputs": []
    },
    {
      "metadata": {
        "id": "xRyM7y17FW-B",
        "colab_type": "code",
        "colab": {}
      },
      "cell_type": "code",
      "source": [
        "#Declarations\n",
        "Last_Layer_size = 128\n",
        "shape = (410,128)"
      ],
      "execution_count": 0,
      "outputs": []
    },
    {
      "metadata": {
        "id": "CVSDavUxzDnR",
        "colab_type": "code",
        "colab": {}
      },
      "cell_type": "code",
      "source": [
        "with open(Path+'mylist', 'rb') as f:\n",
        "  Article = pickle.load(f)\n",
        "Articles_df = pd.DataFrame(Article, columns = ['TitleAbstract','Label','drop'])\n",
        "Articles_df.drop(columns = ['drop'], inplace=True)\n",
        "\n",
        "Articles_df = Articles_df.sample(frac=1)\n",
        "\n",
        "#count unique words\n",
        "words = []\n",
        "_ = [words.extend(x) for x in Articles_df['TitleAbstract']]\n",
        "Nb_words = len(set(words))\n",
        "del words\n",
        "\n",
        "#Count maximum length\n",
        "art_length = max(Articles_df['TitleAbstract'].apply(len))\n",
        "                                                        \n",
        "#Embed\n",
        "model = gensim.models.KeyedVectors.load_word2vec_format(Path + \"Models/ACEInhibitors_word2vec_128.bin\", binary=True)\n",
        "\n",
        "Articles_df['Embed'] = Articles_df['TitleAbstract'].apply(lambda x:embed(model,x, art_length))\n",
        "Articles_df['Label_resize'] = Articles_df['Label'].apply(lambda x:np.ones(Last_Layer_size)*x)\n",
        "\n",
        "#Train and test subsets.\n",
        "Id_train = len(Articles_df)//2\n",
        "\n",
        "Articles_test = Articles_df[:Id_train]\n",
        "Articles_train = Articles_df[Id_train:]\n",
        "\n",
        "#Format\n",
        "x_train = np.zeros((len(Articles_train),shape[0],shape[1]))\n",
        "\n",
        "for i in range(len(Articles_train)):\n",
        "    x_train[i,:,:] = Articles_train['Embed'].values[i]\n",
        "    \n",
        "y_train = np.zeros((len(Articles_train),Last_Layer_size))\n",
        "\n",
        "for i in range(len(Articles_train)):\n",
        "    y_train[i,:] = Articles_train['Label_resize'].values[i]"
      ],
      "execution_count": 0,
      "outputs": []
    },
    {
      "metadata": {
        "id": "lA4V6oBP-prm",
        "colab_type": "code",
        "outputId": "3b9e40ef-0de7-4b59-96fb-9bc65ac03551",
        "colab": {
          "base_uri": "https://localhost:8080/",
          "height": 597
        }
      },
      "cell_type": "code",
      "source": [
        "# Define our deep model with the Functional API\n",
        "\n",
        "Inp = layers.Input(shape=(shape[0],shape[1],))\n",
        "\n",
        "flat = layers.Conv1D(64,kernel_size=5, data_format = 'channels_first')(Inp)\n",
        "flat = layers.LSTM(64)(flat)\n",
        "flat = layers.Flatten()(flat)\n",
        "dense1 = layers.Dense(128, activation = \"softmax\")(flat)\n",
        "drop2 = layers.Dropout(0.5)(dense1)\n",
        "dense2 = layers.Dense(Last_Layer_size)(drop2)\n",
        "deep_net = layers.Lambda(lambda x: keras.backend.l2_normalize(x, axis=1))(dense2)\n",
        "\n",
        "deep_model = keras.Model(inputs=Inp, outputs=deep_net)\n",
        "print(deep_model.summary())"
      ],
      "execution_count": 6,
      "outputs": [
        {
          "output_type": "stream",
          "text": [
            "WARNING:tensorflow:From /usr/local/lib/python3.6/dist-packages/tensorflow/python/ops/resource_variable_ops.py:435: colocate_with (from tensorflow.python.framework.ops) is deprecated and will be removed in a future version.\n",
            "Instructions for updating:\n",
            "Colocations handled automatically by placer.\n",
            "WARNING:tensorflow:From /usr/local/lib/python3.6/dist-packages/tensorflow/python/keras/layers/core.py:143: calling dropout (from tensorflow.python.ops.nn_ops) with keep_prob is deprecated and will be removed in a future version.\n",
            "Instructions for updating:\n",
            "Please use `rate` instead of `keep_prob`. Rate should be set to `rate = 1 - keep_prob`.\n",
            "_________________________________________________________________\n",
            "Layer (type)                 Output Shape              Param #   \n",
            "=================================================================\n",
            "input_1 (InputLayer)         (None, 410, 128)          0         \n",
            "_________________________________________________________________\n",
            "conv1d (Conv1D)              (None, 64, 124)           131264    \n",
            "_________________________________________________________________\n",
            "lstm (LSTM)                  (None, 64)                48384     \n",
            "_________________________________________________________________\n",
            "flatten (Flatten)            (None, 64)                0         \n",
            "_________________________________________________________________\n",
            "dense (Dense)                (None, 128)               8320      \n",
            "_________________________________________________________________\n",
            "dropout (Dropout)            (None, 128)               0         \n",
            "_________________________________________________________________\n",
            "dense_1 (Dense)              (None, 128)               16512     \n",
            "_________________________________________________________________\n",
            "lambda (Lambda)              (None, 128)               0         \n",
            "=================================================================\n",
            "Total params: 204,480\n",
            "Trainable params: 204,480\n",
            "Non-trainable params: 0\n",
            "_________________________________________________________________\n",
            "None\n"
          ],
          "name": "stdout"
        }
      ]
    },
    {
      "metadata": {
        "id": "bOLuD_TxxyvN",
        "colab_type": "code",
        "colab": {}
      },
      "cell_type": "code",
      "source": [
        "def custom_loss(margin):\n",
        "\n",
        "    # Create a loss function that adds the MSE loss to the mean of all squared activations of a specific layer\n",
        "    def loss(y_true,y_pred):\n",
        "        label = keras.backend.mean(y_true, axis=-1)\n",
        "        return tf.contrib.losses.metric_learning.triplet_semihard_loss(embeddings = y_pred, labels = label, margin = margin)\n",
        "   \n",
        "    # Return a function\n",
        "    return loss"
      ],
      "execution_count": 0,
      "outputs": []
    },
    {
      "metadata": {
        "id": "TiR6gn_JrEVN",
        "colab_type": "code",
        "colab": {}
      },
      "cell_type": "code",
      "source": [
        "deep_model.compile(loss=custom_loss(0.8), optimizer='adam')"
      ],
      "execution_count": 0,
      "outputs": []
    },
    {
      "metadata": {
        "id": "XENevNhE6q_T",
        "colab_type": "code",
        "colab": {
          "base_uri": "https://localhost:8080/",
          "height": 782
        },
        "outputId": "58f78a83-1476-4b03-edaf-c7a030c7ad9b"
      },
      "cell_type": "code",
      "source": [
        "deep_model.fit(x = x_train, y = y_train, batch_size = 128, epochs = 20)"
      ],
      "execution_count": 20,
      "outputs": [
        {
          "output_type": "stream",
          "text": [
            "Epoch 1/20\n",
            "1101/1101 [==============================] - 3s 3ms/sample - loss: 0.0314\n",
            "Epoch 2/20\n",
            "1101/1101 [==============================] - 2s 2ms/sample - loss: 0.0175\n",
            "Epoch 3/20\n",
            "1101/1101 [==============================] - 2s 2ms/sample - loss: 0.0171\n",
            "Epoch 4/20\n",
            "1101/1101 [==============================] - 2s 2ms/sample - loss: 0.0100\n",
            "Epoch 5/20\n",
            "1101/1101 [==============================] - 2s 2ms/sample - loss: 0.0052\n",
            "Epoch 6/20\n",
            "1101/1101 [==============================] - 2s 2ms/sample - loss: 0.0040\n",
            "Epoch 7/20\n",
            "1101/1101 [==============================] - 2s 2ms/sample - loss: 0.0326\n",
            "Epoch 8/20\n",
            "1101/1101 [==============================] - 2s 2ms/sample - loss: 0.0137\n",
            "Epoch 9/20\n",
            "1101/1101 [==============================] - 2s 2ms/sample - loss: 0.0108\n",
            "Epoch 10/20\n",
            "1101/1101 [==============================] - 2s 2ms/sample - loss: 0.0027\n",
            "Epoch 11/20\n",
            "1101/1101 [==============================] - 2s 2ms/sample - loss: 0.0488\n",
            "Epoch 12/20\n",
            "1101/1101 [==============================] - 2s 2ms/sample - loss: 0.0236\n",
            "Epoch 13/20\n",
            "1101/1101 [==============================] - 2s 2ms/sample - loss: 0.0265\n",
            "Epoch 14/20\n",
            "1101/1101 [==============================] - 2s 2ms/sample - loss: 0.0163\n",
            "Epoch 15/20\n",
            "1101/1101 [==============================] - 2s 2ms/sample - loss: 0.0469\n",
            "Epoch 16/20\n",
            "1101/1101 [==============================] - 2s 2ms/sample - loss: 0.0384\n",
            "Epoch 17/20\n",
            "1101/1101 [==============================] - 2s 2ms/sample - loss: 0.0489\n",
            "Epoch 18/20\n",
            "1101/1101 [==============================] - 2s 2ms/sample - loss: 0.0245\n",
            "Epoch 19/20\n",
            "1101/1101 [==============================] - 2s 2ms/sample - loss: 0.0082\n",
            "Epoch 20/20\n",
            "1101/1101 [==============================] - 2s 2ms/sample - loss: 0.0078\n"
          ],
          "name": "stdout"
        },
        {
          "output_type": "execute_result",
          "data": {
            "text/plain": [
              "<tensorflow.python.keras.callbacks.History at 0x7f241297e080>"
            ]
          },
          "metadata": {
            "tags": []
          },
          "execution_count": 20
        }
      ]
    },
    {
      "metadata": {
        "id": "PQQcdOSdqH_C",
        "colab_type": "code",
        "colab": {}
      },
      "cell_type": "code",
      "source": [
        "svm_BOW = linear_model.SGDClassifier(loss = 'hinge',\n",
        "                                     penalty = 'l2', \n",
        "                                     max_iter =  10000,\n",
        "                                     tol=1e-5)\n"
      ],
      "execution_count": 0,
      "outputs": []
    },
    {
      "metadata": {
        "id": "Wo6TwqjOlJaQ",
        "colab_type": "code",
        "colab": {
          "base_uri": "https://localhost:8080/",
          "height": 73
        },
        "outputId": "bedff36f-a4d0-4170-eee9-c9843b6d3cf6"
      },
      "cell_type": "code",
      "source": [
        "x_embed = deep_model.predict(x_train)\n",
        "x_valid_embed = deep_model.predict(np.stack(Articles_test['Embed'].values.tolist()))\n",
        "\n",
        "_ = svm_BOW.fit(x_embed, Articles_train['Label'])\n",
        "\n",
        "y_predict = svm_BOW.predict(x_valid_embed)\n",
        "\n",
        "\n",
        "Acc = accuracy_score(Articles_test['Label'],y_predict, normalize=True)\n",
        "print('Accuracy : {0:0.4f}'.format(Acc))\n",
        "\n",
        "Sn = recall_score(Articles_test['Label'],y_predict, pos_label=1)\n",
        "print('Sensitivity : {0:0.4f}'.format(Sn))\n",
        "\n",
        "Sp = recall_score(Articles_test['Label'],y_predict, pos_label=0)\n",
        "print('Specificity : {0:0.4f}'.format(Sp))"
      ],
      "execution_count": 24,
      "outputs": [
        {
          "output_type": "stream",
          "text": [
            "Accuracy : 0.8991\n",
            "Sensitivity : 0.0610\n",
            "Specificity : 0.9666\n"
          ],
          "name": "stdout"
        }
      ]
    },
    {
      "metadata": {
        "id": "urMyw4vEoOVb",
        "colab_type": "code",
        "colab": {
          "base_uri": "https://localhost:8080/",
          "height": 365
        },
        "outputId": "576337e1-1be9-4ca6-d73d-a143b59e3a46"
      },
      "cell_type": "code",
      "source": [
        "from sklearn.decomposition import PCA\n",
        "from sklearn.datasets import load_digits\n",
        "from sklearn.manifold import TSNE\n",
        "import matplotlib.pyplot as plt\n",
        "\n",
        "projected = PCA(2).fit_transform(x_valid_embed)\n",
        "\n",
        "plt.scatter(projected[:, 0], projected[:, 1],\n",
        "            c=Articles_test['Label'], edgecolor='none', alpha=0.5,\n",
        "            cmap=plt.cm.get_cmap('rainbow', 2))\n",
        "plt.xlabel('component 1')\n",
        "plt.ylabel('component 2')\n",
        "plt.colorbar();"
      ],
      "execution_count": 118,
      "outputs": [
        {
          "output_type": "display_data",
          "data": {
            "image/png": "[encoded data removed]",
            "text/plain": [
              "<Figure size 576x396 with 2 Axes>"
            ]
          },
          "metadata": {
            "tags": []
          }
        }
      ]
    },
    {
      "metadata": {
        "id": "yArE0BhX9KMo",
        "colab_type": "code",
        "colab": {}
      },
      "cell_type": "code",
      "source": [
        "X_embedded.shape"
      ],
      "execution_count": 0,
      "outputs": []
    },
    {
      "metadata": {
        "id": "YRgkkKFX9KLS",
        "colab_type": "code",
        "colab": {}
      },
      "cell_type": "code",
      "source": [
        "plt.scatter(X_embedded[:, 0], X_embedded[:, 1],\n",
        "            c=y_valid, edgecolor='none', alpha=0.5,\n",
        "            cmap=plt.cm.get_cmap('Spectral', 10))\n",
        "plt.xlabel('component 1')\n",
        "plt.ylabel('component 2')\n",
        "plt.colorbar();"
      ],
      "execution_count": 0,
      "outputs": []
    },
    {
      "metadata": {
        "id": "Sjf-LrWfo9WQ",
        "colab_type": "code",
        "colab": {}
      },
      "cell_type": "code",
      "source": [
        ""
      ],
      "execution_count": 0,
      "outputs": []
    },
    {
      "metadata": {
        "id": "n0ZbRfGzpiT5",
        "colab_type": "code",
        "colab": {}
      },
      "cell_type": "code",
      "source": [
        "0.67156960180216"
      ],
      "execution_count": 0,
      "outputs": []
    },
    {
      "metadata": {
        "id": "JOE65UIFqMHS",
        "colab_type": "code",
        "colab": {}
      },
      "cell_type": "code",
      "source": [
        "len(y_valid)"
      ],
      "execution_count": 0,
      "outputs": []
    },
    {
      "metadata": {
        "id": "oo-CaTBUqQSZ",
        "colab_type": "code",
        "colab": {}
      },
      "cell_type": "code",
      "source": [
        ""
      ],
      "execution_count": 0,
      "outputs": []
    }
  ]
}